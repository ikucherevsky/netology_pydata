{
 "cells": [
  {
   "cell_type": "markdown",
   "metadata": {},
   "source": [
    "## Задание 1"
   ]
  },
  {
   "cell_type": "markdown",
   "metadata": {},
   "source": [
    "Дан список вида:"
   ]
  },
  {
   "cell_type": "code",
   "execution_count": 48,
   "metadata": {},
   "outputs": [
    {
     "data": {
      "text/plain": [
       "103"
      ]
     },
     "execution_count": 48,
     "metadata": {},
     "output_type": "execute_result"
    }
   ],
   "source": [
    "data = [\n",
    "    [13, 25, 23, 34],\n",
    "    [45, 32, 44, 47],\n",
    "    [12, 33, 23, 95],\n",
    "    [13, 53, 34, 35],\n",
    "]\n",
    "def diagonal_sum (x):\n",
    "    summ = 0\n",
    "    for i in range(len(x)):\n",
    "        summ += x[i][i]\n",
    "    return summ\n",
    "diagonal_sum(data)"
   ]
  },
  {
   "cell_type": "markdown",
   "metadata": {},
   "source": [
    "Напишите функцию, которая возвращает сумму элементов на диагонали. Т. е. 13+32+23+35."
   ]
  },
  {
   "cell_type": "markdown",
   "metadata": {},
   "source": [
    "## Задание 2"
   ]
  },
  {
   "cell_type": "markdown",
   "metadata": {},
   "source": [
    "Дан список чисел, часть из которых имеют строковый тип или содержат буквы. Напишите функцию, которая возвращает сумму квадратов элементов, которые могут быть числами."
   ]
  },
  {
   "cell_type": "code",
   "execution_count": 49,
   "metadata": {},
   "outputs": [
    {
     "data": {
      "text/plain": [
       "430"
      ]
     },
     "execution_count": 49,
     "metadata": {},
     "output_type": "execute_result"
    }
   ],
   "source": [
    "data = [1, '5', 'abc', 20,'2']\n",
    "def sum_square(x):\n",
    "    summa = 0\n",
    "    for i in data:    \n",
    "        if str(i).isnumeric(): summa += int(i) ** 2\n",
    "    return summa\n",
    "sum_square(data)\n"
   ]
  },
  {
   "cell_type": "markdown",
   "metadata": {},
   "source": [
    "## Задание 3"
   ]
  },
  {
   "cell_type": "markdown",
   "metadata": {},
   "source": [
    "Напишите функцию, возвращающую сумму первых n чисел Фибоначчи."
   ]
  },
  {
   "cell_type": "code",
   "execution_count": 50,
   "metadata": {},
   "outputs": [
    {
     "data": {
      "text/plain": [
       "24157816"
      ]
     },
     "execution_count": 50,
     "metadata": {},
     "output_type": "execute_result"
    }
   ],
   "source": [
    "# 1,1,2,3,5,8,13,21,34\n",
    "#x(n) = x(n-1) + x(n-2)\n",
    "# x(0) = 0, x(1) = 1\n",
    "def fibonacci(x):\n",
    "    if x == 1: return 1\n",
    "    if x == 0: return 0\n",
    "    result = fibonacci(x-1) + fibonacci(x-2)\n",
    "    return result\n",
    "def sum_fibonacci(x):\n",
    "    summa = 0\n",
    "    for i in range(1,x + 1):\n",
    "        summa += fibonacci(i)\n",
    "    return summa\n",
    "sum_fibonacci(35)"
   ]
  },
  {
   "cell_type": "markdown",
   "metadata": {},
   "source": [
    "## Задание 4"
   ]
  },
  {
   "cell_type": "markdown",
   "metadata": {},
   "source": [
    "Дан набор данных об обучении студентов на курсе программирования, который содержит: \n",
    "1) имя\n",
    "2) фамилию \n",
    "3) пол \n",
    "4) наличие у студента опыта в программировании \n",
    "5) набор оценок за домашние работы \n",
    "6) оценку за итоговую работу.\n",
    "\n",
    "Напишите программу, которая будет принимать команду от пользователя и возвращать соотвествующий результат.\n",
    "Список команд: \n",
    "1 - вывести на экран среднюю оценку за все ДЗ по группе и вывести на экран среднюю оценку за экзамен по группе;\n",
    "2 - вывести среднюю оценку за ДЗ и за экзамен по группе в разрезе пола студентов\n",
    "3 - вывести среднюю оценку за ДЗ и за экзамен в разрезе наличия опыта в программировании у студентов.\n",
    "\n",
    "Прогрмма должна быть полностью декомпозирована на функции (кроме объявления функций и вызова итоговой функции в реализации ничего быть не должно)."
   ]
  },
  {
   "cell_type": "code",
   "execution_count": 51,
   "metadata": {},
   "outputs": [],
   "source": [
    "students_list = [\n",
    "    {'name': 'Василий', 'surname': 'Теркин', 'sex': 'м', 'program_exp': True, 'grade': [8, 8, 9, 10, 9], 'exam': 9},\n",
    "    {'name': 'Мария', 'surname': 'Павлова', 'sex': 'ж', 'program_exp': True, 'grade': [7, 8, 9, 7, 9], 'exam': 8},\n",
    "    {'name': 'Ирина', 'surname': 'Андреева', 'sex': 'ж', 'program_exp': True, 'grade': [10, 9, 8, 10, 10], 'exam': 10},\n",
    "    {'name': 'Татьяна', 'surname': 'Сидорова', 'sex': 'ж', 'program_exp': True, 'grade': [7, 8, 8, 9, 8], 'exam': 8},\n",
    "    {'name': 'Иван', 'surname': 'Васильев', 'sex': 'м', 'program_exp': True, 'grade': [9, 8, 9, 6, 9], 'exam': 10},\n",
    "    {'name': 'Роман', 'surname': 'Золотарев', 'sex': 'м', 'program_exp': False, 'grade': [8, 9, 9, 6, 9], 'exam': 10}\n",
    "]\n"
   ]
  },
  {
   "cell_type": "code",
   "execution_count": 52,
   "metadata": {},
   "outputs": [
    {
     "name": "stdout",
     "output_type": "stream",
     "text": [
      "Дан набор данных об обучении студентов на курсе программирования, который содержит:\n",
      "1) имя 2) фамилию 3) пол 4) наличие у студента опыта в программировании\n",
      "5) набор оценок за домашние работы 6) оценку за итоговую работу\n",
      "Список команд:\n",
      "1 - вывести на экран среднюю оценку за все ДЗ по группе и вывести на экран среднюю оценку за экзамен по группе\n",
      "2- вывести среднюю оценку за ДЗ и за экзамен по группе в разрезе пола студентов\n",
      "3 - вывести среднюю оценку за ДЗ и за экзамен в разрезе наличия опыта в программировании у студентов\n",
      "Введите команду   2\n",
      "средняя оценка за ДЗ у студентов мужского пола 8.4 балла\n",
      "средняя оценка за экзамен у студентов мужского пола 9.667 балла\n",
      "средняя оценка за ДЗ у студентов женского пола 8.467 балла\n",
      "средняя оценка за экзамен у студентов женского пола 8.667 балла\n"
     ]
    }
   ],
   "source": [
    "def service_func():\n",
    "    print('Дан набор данных об обучении студентов на курсе программирования, который содержит:')\n",
    "    print('1) имя 2) фамилию 3) пол 4) наличие у студента опыта в программировании')\n",
    "    print( '5) набор оценок за домашние работы 6) оценку за итоговую работу')\n",
    "    print('Список команд:')\n",
    "    print('1 - вывести на экран среднюю оценку за все ДЗ по группе и вывести на экран среднюю оценку за экзамен по группе')\n",
    "    print('2- вывести среднюю оценку за ДЗ и за экзамен по группе в разрезе пола студентов')\n",
    "    print('3 - вывести среднюю оценку за ДЗ и за экзамен в разрезе наличия опыта в программировании у студентов')\n",
    "    inp = input('Введите команду   ')\n",
    "    if inp == '1':\n",
    "        print('Cредняя оценка за все ДЗ по группе ',round(assesments_average(students_list,'grade'),3) , 'балла')\n",
    "        print('среднюю оценку за экзамен по группе ',round(assesments_average(students_list,'exam'),3),'балла' )\n",
    "    elif inp == '2':\n",
    "        print('средняя оценка за ДЗ у студентов мужского пола',\n",
    "              round(assesments_average(criterion_list(students_list,'sex','м'),'grade'),3),'балла')\n",
    "        print('средняя оценка за экзамен у студентов мужского пола',\n",
    "              round(assesments_average(criterion_list(students_list,'sex','м'),'exam'),3),'балла')\n",
    "        print('средняя оценка за ДЗ у студентов женского пола',\n",
    "              round(assesments_average(criterion_list(students_list,'sex','ж'),'grade'),3),'балла')\n",
    "        print('средняя оценка за экзамен у студентов женского пола',\n",
    "              round(assesments_average(criterion_list(students_list,'sex','ж'),'exam'),3),'балла')\n",
    "    elif inp == '3':\n",
    "        print('средняя оценка за ДЗ при наличии опыта программирования',\n",
    "              round(assesments_average(criterion_list(students_list,'program_exp',True),'grade'),3),'балла')\n",
    "        print('средняя оценка за экзамен при наличии опыта программирования',\n",
    "              round(assesments_average(criterion_list(students_list,'program_exp',True),'exam'),3),'балла')\n",
    "        print('средняя оценка за ДЗ при отсутствии опыта программирования',\n",
    "              round(assesments_average(criterion_list(students_list,'program_exp',False),'grade'),3),'балла')\n",
    "        print('средняя оценка за экзамен при отсутствии опыта программирования',\n",
    "              round(assesments_average(criterion_list(students_list,'program_exp',False),'exam'),3),'балла')\n",
    "    else: \n",
    "        print('Ошибка ! Такой команды не существует.')\n",
    "        \n",
    "    return\n",
    "\n",
    "def assesments_average(students_list, criterion):\n",
    "    summa = 0\n",
    "    for students in students_list:\n",
    "        if criterion == 'grade':\n",
    "              summa += sum(students[criterion]) / len(students[criterion])\n",
    "        else: summa += students[criterion]\n",
    "              \n",
    "    return summa / len(students_list)\n",
    "\n",
    "\n",
    "def criterion_list(students_list, criterion,param):\n",
    "    s_list = []\n",
    "    for students in students_list:\n",
    "        if students[criterion] == param:\n",
    "            s_list.append(students)\n",
    "    return s_list\n",
    "\n",
    "  \n",
    "service_func()    \n",
    "    \n",
    "\n"
   ]
  },
  {
   "cell_type": "code",
   "execution_count": null,
   "metadata": {},
   "outputs": [],
   "source": []
  }
 ],
 "metadata": {
  "kernelspec": {
   "display_name": "Python 3",
   "language": "python",
   "name": "python3"
  },
  "language_info": {
   "codemirror_mode": {
    "name": "ipython",
    "version": 3
   },
   "file_extension": ".py",
   "mimetype": "text/x-python",
   "name": "python",
   "nbconvert_exporter": "python",
   "pygments_lexer": "ipython3",
   "version": "3.6.6"
  }
 },
 "nbformat": 4,
 "nbformat_minor": 2
}

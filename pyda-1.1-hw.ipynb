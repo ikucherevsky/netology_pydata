{
 "cells": [
  {
   "cell_type": "markdown",
   "metadata": {},
   "source": [
    "**Задание 1**. Даны 2 строки: *long_phrase* и *short_phrase*. \n",
    "Напишите код, который проверяет действительно ли длинная фраза *long_phrase* длиннее короткой *short_phrase*. И выводит *True* или *False* в зависимости от результата сравнения."
   ]
  },
  {
   "cell_type": "code",
   "execution_count": 6,
   "metadata": {},
   "outputs": [],
   "source": [
    "long_phrase = 'Насколько проще было бы писать программы, если бы не заказчики'\n",
    "short_phrase = '640Кб должно хватить для любых задач. Билл Гейтс (по легенде)'"
   ]
  },
  {
   "cell_type": "code",
   "execution_count": 7,
   "metadata": {},
   "outputs": [
    {
     "name": "stdout",
     "output_type": "stream",
     "text": [
      "True\n"
     ]
    }
   ],
   "source": [
    "if len(long_phrase) > len(short_phrase):\n",
    "    print('True')\n",
    "else:\n",
    "    print('False')"
   ]
  },
  {
   "cell_type": "markdown",
   "metadata": {},
   "source": [
    "**Задание 2**. Дано значение объема файла в байтах. Напишите перевод этого значения в мегабайты в формате: \"*Объем файла равен 213.68Mb*\""
   ]
  },
  {
   "cell_type": "code",
   "execution_count": 10,
   "metadata": {},
   "outputs": [
    {
     "name": "stdout",
     "output_type": "stream",
     "text": [
      "Введите объем файла в байтах3100\n",
      "Объем файла равен 3.02734375 Mb\n"
     ]
    }
   ],
   "source": [
    "byte_quantity = input('Введите объем файла в байтах')\n",
    "print ('Объем файла равен', float(byte_quantity) / 1024,'Mb')"
   ]
  },
  {
   "cell_type": "markdown",
   "metadata": {},
   "source": [
    "**Задание 3**. Разработать приложение для определения знака зодиака по дате рождения. Пример:\n",
    "\n",
    "Введите месяц: март\n",
    "\n",
    "Введите число: 6\n",
    "\n",
    "Вывод:\n",
    "Рыбы"
   ]
  },
  {
   "cell_type": "code",
   "execution_count": 29,
   "metadata": {},
   "outputs": [
    {
     "name": "stdout",
     "output_type": "stream",
     "text": [
      "Введите месяцдекабрь\n",
      "Введите число28\n",
      "Day of year =  362\n",
      "Знак Зодиака - Козерог\n"
     ]
    }
   ],
   "source": [
    "month = input('Введите месяц')\n",
    "day = input ('Введите число')  \n",
    "day_of_year = 0\n",
    "if month == 'январь' or month =='Январь':\n",
    "    day_of_year = int (day)\n",
    "elif month == 'февраль' or month =='Февраль':\n",
    "    day_of_year = 31 + int (day)\n",
    "elif month == 'март' or month =='Март':\n",
    "    day_of_year = 59 + int (day)\n",
    "elif month == 'апрель' or month =='Апрель':\n",
    "    day_of_year = 90 + int (day)\n",
    "elif month == 'май' or month =='Май':\n",
    "    day_of_year = 120 + int (day)\n",
    "elif month == 'июнь' or month =='Июнь':\n",
    "    day_of_year = 151 + int (day)\n",
    "elif month == 'июль' or month =='Июль':\n",
    "    day_of_year = 181 + int (day)\n",
    "elif month == 'август' or month =='Август':\n",
    "    day_of_year = 212 + int (day)\n",
    "elif month == 'сентябрь' or month =='Сентябрь':\n",
    "    day_of_year = 243 + int (day)\n",
    "elif month == 'октябрь' or month =='Октябрь':\n",
    "    day_of_year = 273 + int (day)\n",
    "elif month == 'ноябрь' or month =='Ноябрь':\n",
    "    day_of_year = 304 + int (day)\n",
    "elif month == 'декабрь' or month =='Декабрь':\n",
    "    day_of_year = 334 + int (day)\n",
    "else:\n",
    "    print ('Неверный ввод')\n",
    "print ('Day of year = ',day_of_year)\n",
    "if day_of_year > 20 and day_of_year <= 51:\n",
    "    print ('Знак Зодиака - Водолей')\n",
    "elif day_of_year > 52 and day_of_year <= 80:\n",
    "    print ('Знак Зодиака - Рыбы')\n",
    "elif day_of_year > 80 and day_of_year <= 110:\n",
    "    print ('Знак Зодиака - Овен')\n",
    "elif day_of_year > 110 and day_of_year <= 140:\n",
    "    print ('Знак Зодиака - Телец')\n",
    "elif day_of_year > 140 and day_of_year <= 172:\n",
    "    print ('Знак Зодиака - Близнец')\n",
    "elif day_of_year > 172 and day_of_year <= 203:\n",
    "    print ('Знак Зодиака - Рак')\n",
    "elif day_of_year > 203 and day_of_year <= 235:\n",
    "    print ('Знак Зодиака - Лев')\n",
    "elif day_of_year > 235 and day_of_year <= 266:\n",
    "    print ('Знак Зодиака - Дева')\n",
    "elif day_of_year > 266 and day_of_year <= 296:\n",
    "    print ('Знак Зодиака - Весы')\n",
    "elif day_of_year > 296 and day_of_year <= 326:\n",
    "    print ('Знак Зодиака - Скорпион')\n",
    "elif day_of_year > 326 and day_of_year <= 355:\n",
    "    print ('Знак Зодиака - Стрелец')\n",
    "else:\n",
    "    print ('Знак Зодиака - Козерог')\n"
   ]
  },
  {
   "cell_type": "markdown",
   "metadata": {},
   "source": [
    "**Задание 4**. Нужно разработать приложение для финансового планирования.\n",
    "Приложение учитывает сколько уходит на ипотеку, \"на жизнь\" и сколько нужно отложить на пенсию.\n",
    "Пользователь вводит:\n",
    "- заработанную плату в месяц.\n",
    "- сколько процентов от ЗП уходит на ипотеку.\n",
    "- сколько процентов от ЗП уходит \"на жизнь\".\n",
    "- сколько раз приходит премия в год.\n",
    "\n",
    "Остальная часть заработанной платы откладывается на пенсию.\n",
    "\n",
    "Также пользователю приходит премия в размере зарплаты, от которой половина уходит на отпуск, а вторая половина откладывается.\n",
    "\n",
    "Программа должна учитывать сколько премий было в год.\n",
    "\n",
    "Нужно вывести сколько денег тратит пользователь на ипотеку и сколько он накопит за год.\n",
    "\n",
    "Пример:\n",
    "\n",
    "Введите заработанную плату в месяц: 100000\n",
    "\n",
    "Введите сколько процентов уходит на ипотеку: 30\n",
    "\n",
    "Введите сколько процентов уходит на жизнь: 50\n",
    "\n",
    "Введите количество премий за год: 2\n",
    "\n",
    "Вывод:\n",
    "На ипотеку было потрачено: 360000 рублей\n",
    "Было накоплено: 340000 рублей"
   ]
  },
  {
   "cell_type": "code",
   "execution_count": 33,
   "metadata": {},
   "outputs": [
    {
     "name": "stdout",
     "output_type": "stream",
     "text": [
      "Введите заработанную плату в месяц100000\n",
      "Введите сколько процентов уходит на ипотеку30\n",
      "Введите сколько процентов уходит на жизнь50\n",
      "Введите количество премий за год2\n",
      "Вывод: На ипотеку было потрачено   360000.0   рублей   Было накоплено  340000.0\n"
     ]
    }
   ],
   "source": [
    "salary = float(input('Введите заработанную плату в месяц'))\n",
    "ipoteka = float( input('Введите сколько процентов уходит на ипотеку'))\n",
    "life = float(input('Введите сколько процентов уходит на жизнь'))\n",
    "premium = float(input('Введите количество премий за год'))\n",
    "print ('Вывод: На ипотеку было потрачено  ', salary * ipoteka * 0.12,'  рублей',\n",
    "       '  Было накоплено ', ((100 - ipoteka - life  )/100) * 12 * salary + salary * premium * 0.5)"
   ]
  },
  {
   "cell_type": "code",
   "execution_count": null,
   "metadata": {},
   "outputs": [],
   "source": []
  }
 ],
 "metadata": {
  "kernelspec": {
   "display_name": "Python 3",
   "language": "python",
   "name": "python3"
  },
  "language_info": {
   "codemirror_mode": {
    "name": "ipython",
    "version": 3
   },
   "file_extension": ".py",
   "mimetype": "text/x-python",
   "name": "python",
   "nbconvert_exporter": "python",
   "pygments_lexer": "ipython3",
   "version": "3.7.3"
  }
 },
 "nbformat": 4,
 "nbformat_minor": 2
}
